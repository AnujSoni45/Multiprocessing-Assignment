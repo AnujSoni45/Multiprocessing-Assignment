{
 "cells": [
  {
   "cell_type": "code",
   "execution_count": null,
   "id": "5dda2aa1-fe29-4b94-8bf5-88d68a44a7d2",
   "metadata": {},
   "outputs": [],
   "source": [
    "Q1. What is multiprocessing in python? Why is it useful?"
   ]
  },
  {
   "cell_type": "code",
   "execution_count": null,
   "id": "92fae6d9-c559-4d0a-9402-03afc7f0db2c",
   "metadata": {},
   "outputs": [],
   "source": [
    "(Answer):\n",
    "Multiprocessing in Python refers to the capability of running multiple processes concurrently, allowing for parallel execution of tasks on a multi-core CPU or across multiple CPUs. This is in contrast to multithreading, where multiple threads share the same memory space and execute concurrently within a single process.\n",
    "\n",
    "The benefits of using multiprocessing in Python include:\n",
    "\n",
    "Parallelism: By utilizing multiple processes, you can take advantage of multi-core CPUs and achieve parallel execution of tasks. This can lead to significant performance improvements for CPU-bound tasks.\n",
    "\n",
    "Isolation: Each process runs in its own memory space, which prevents interference between processes. This makes multiprocessing suitable for tasks that involve heavy computation and could potentially impact the stability of the main program.\n",
    "\n",
    "Utilizing Multiple CPUs: When dealing with tasks that can be divided into smaller chunks that can be executed independently, multiprocessing allows you to fully utilize multiple CPUs, distributing the workload evenly.\n",
    "\n",
    "GIL Bypass: Python's Global Interpreter Lock (GIL) restricts true multi-threading in CPython (the standard Python interpreter) due to the GIL's limitations. Multiprocessing allows you to bypass the GIL and achieve true parallelism using multiple processes.\n",
    "\n",
    "Improved Performance: For CPU-bound tasks, using multiprocessing can lead to substantial performance improvements, as each process can execute on a separate core."
   ]
  },
  {
   "cell_type": "code",
   "execution_count": null,
   "id": "7187403f-87ea-481c-8f53-73a500a49983",
   "metadata": {},
   "outputs": [],
   "source": [
    "Q2. What are the differences between multiprocessing and multithreading?"
   ]
  },
  {
   "cell_type": "code",
   "execution_count": null,
   "id": "2668f5c0-7602-409e-995c-9c6ac1d07287",
   "metadata": {},
   "outputs": [],
   "source": [
    "(Answer):\n",
    "Multiprocessing and multithreading are both techniques used for achieving concurrent execution in a program, but they operate differently and are suitable for different types of tasks. Here are the key differences between multiprocessing and multi"
   ]
  },
  {
   "cell_type": "code",
   "execution_count": null,
   "id": "2c8af87d-f77d-43d8-8231-572363ec77a4",
   "metadata": {},
   "outputs": [],
   "source": [
    "Q3. Write a python code to create a process using the multiprocessing module."
   ]
  },
  {
   "cell_type": "code",
   "execution_count": 1,
   "id": "6e7cc453-c638-42ce-8c15-d565e68bae90",
   "metadata": {},
   "outputs": [
    {
     "name": "stdout",
     "output_type": "stream",
     "text": [
      "Worker process Process-1 started.\n",
      "Hello from worker process Process-1!\n",
      "Worker process Process-1 finished.\n",
      "Main process finished.\n"
     ]
    }
   ],
   "source": [
    "import multiprocessing\n",
    "\n",
    "def worker_function(name):\n",
    "    print(f\"Worker process {name} started.\")\n",
    "    print(f\"Hello from worker process {name}!\")\n",
    "    print(f\"Worker process {name} finished.\")\n",
    "\n",
    "if __name__ == \"__main__\":\n",
    "    # Create a new process and pass a function to execute\n",
    "    process = multiprocessing.Process(target=worker_function, args=(\"Process-1\",))\n",
    "    \n",
    "    # Start the process\n",
    "    process.start()\n",
    "    \n",
    "    # Wait for the process to finish\n",
    "    process.join()\n",
    "    \n",
    "    print(\"Main process finished.\")\n"
   ]
  },
  {
   "cell_type": "code",
   "execution_count": null,
   "id": "b89340ee-8b9f-464b-916f-4c2f02cfb7ce",
   "metadata": {},
   "outputs": [],
   "source": [
    "Q4. What is a multiprocessing pool in python? Why is it used?"
   ]
  },
  {
   "cell_type": "code",
   "execution_count": null,
   "id": "09c11443-f8d6-4eba-8924-c0945a01b57e",
   "metadata": {},
   "outputs": [],
   "source": [
    "(Answer):\n",
    "    \n",
    "A multiprocessing pool in Python, specifically the multiprocessing.Pool class, provides a convenient way to distribute work across multiple processes. It allows you to parallelize the execution of a function on a collection of input data by automatically managing the creation, management, and communication of processes. The Pool class abstracts away many of the complexities associated with managing multiple processes, making it easier to achieve parallelism in your code.\n",
    "Here's how a multiprocessing.Pool works and why it's used:\n",
    "\n",
    "Creation: You create a pool of worker processes using the Pool class constructor. You specify the number of worker processes you want to use in the pool. This number is typically determined by the number of available CPU cores, as you want to maximize parallelism without overwhelming the system.\n",
    "\n",
    "Distributing Work: Once you have a pool, you can use its methods to distribute work to the worker processes. The most commonly used method is map(). You provide a function and an iterable (e.g., a list) of input data. The function will be applied to each element of the iterable concurrently across the worker processes.\n",
    "\n",
    "Parallel Execution: The Pool automatically distributes the workload across the worker processes, which allows for parallel execution of the provided function on different data elements. This can significantly speed up tasks that can be divided into independent parts.\n",
    "\n",
    "Result Aggregation: The map() function returns a list of results, where each result corresponds to the output of applying the provided function to each input element. The order of results in the list is maintained based on the order of the input elements.\n",
    "\n",
    "Efficient Resource Management: The Pool class handles the creation and management of processes, as well as communication between the main process and the worker processes. It abstracts away many of the complexities of inter-process communication and synchronization."
   ]
  },
  {
   "cell_type": "code",
   "execution_count": null,
   "id": "a905bf9c-0dff-4d15-a340-fbac1eb5005b",
   "metadata": {},
   "outputs": [],
   "source": [
    "Q5. How can we create a pool of worker processes in python using the multiprocessing module?"
   ]
  },
  {
   "cell_type": "code",
   "execution_count": 2,
   "id": "1f323f42-198a-4e13-ba41-3da6f44a3b9b",
   "metadata": {},
   "outputs": [
    {
     "name": "stdout",
     "output_type": "stream",
     "text": [
      "Original data: [1, 2, 3, 4, 5, 6, 7, 8, 9, 10]\n",
      "Processed data: [2, 4, 6, 8, 10, 12, 14, 16, 18, 20]\n"
     ]
    }
   ],
   "source": [
    "import multiprocessing\n",
    "\n",
    "def worker_function(item):\n",
    "    return item * 2\n",
    "\n",
    "if __name__ == \"__main__\":\n",
    "    data = [1, 2, 3, 4, 5, 6, 7, 8, 9, 10]\n",
    "\n",
    "    # Create a pool of worker processes\n",
    "    with multiprocessing.Pool(processes=4) as pool:\n",
    "        # Use the map function to apply the worker_function to each item in data\n",
    "        results = pool.map(worker_function, data)\n",
    "    \n",
    "    print(\"Original data:\", data)\n",
    "    print(\"Processed data:\", results)\n"
   ]
  },
  {
   "cell_type": "code",
   "execution_count": null,
   "id": "910e490e-6518-476c-a6b2-fd5c674bb132",
   "metadata": {},
   "outputs": [],
   "source": [
    "Q6. Write a python program to create 4 processes, each process should print a different number using the\n",
    "multiprocessing module in python."
   ]
  },
  {
   "cell_type": "code",
   "execution_count": 3,
   "id": "7ce6e6cc-396b-4b07-a270-e11d25ba5bc3",
   "metadata": {},
   "outputs": [
    {
     "name": "stdout",
     "output_type": "stream",
     "text": [
      "Process 1: Hello from process 1!\n",
      "Process 2: Hello from process 2!\n",
      "Process 3: Hello from process 3!\n",
      "Process 4: Hello from process 4!\n",
      "All processes have finished.\n"
     ]
    }
   ],
   "source": [
    "import multiprocessing\n",
    "\n",
    "def print_number(number):\n",
    "    print(f\"Process {number}: Hello from process {number}!\")\n",
    "\n",
    "if __name__ == \"__main__\":\n",
    "    # Create a list of numbers for each process\n",
    "    numbers = [1, 2, 3, 4]\n",
    "    \n",
    "    # Create a list to hold the process objects\n",
    "    processes = []\n",
    "    \n",
    "    # Create and start the processes\n",
    "    for num in numbers:\n",
    "        process = multiprocessing.Process(target=print_number, args=(num,))\n",
    "        processes.append(process)\n",
    "        process.start()\n",
    "    \n",
    "    # Wait for all processes to finish\n",
    "    for process in processes:\n",
    "        process.join()\n",
    "    \n",
    "    print(\"All processes have finished.\")\n"
   ]
  },
  {
   "cell_type": "code",
   "execution_count": null,
   "id": "8919deaa-b35d-44ca-98cd-00bab5990382",
   "metadata": {},
   "outputs": [],
   "source": []
  }
 ],
 "metadata": {
  "kernelspec": {
   "display_name": "Python 3 (ipykernel)",
   "language": "python",
   "name": "python3"
  },
  "language_info": {
   "codemirror_mode": {
    "name": "ipython",
    "version": 3
   },
   "file_extension": ".py",
   "mimetype": "text/x-python",
   "name": "python",
   "nbconvert_exporter": "python",
   "pygments_lexer": "ipython3",
   "version": "3.10.8"
  }
 },
 "nbformat": 4,
 "nbformat_minor": 5
}
